{
 "cells": [
  {
   "cell_type": "markdown",
   "metadata": {},
   "source": [
    "## Predicting ratings"
   ]
  },
  {
   "cell_type": "code",
   "execution_count": 1,
   "metadata": {},
   "outputs": [],
   "source": [
    "# importing required modules and libraries\n",
    "import numpy as np\n",
    "import pandas as pd\n",
    "import matrix_factorization_utilities"
   ]
  },
  {
   "cell_type": "code",
   "execution_count": 2,
   "metadata": {},
   "outputs": [],
   "source": [
    "# read both ratings and movies datasets into tables using pandas\n",
    "movies = pd.read_csv(\"movies.csv\", index_col='movie_id')\n",
    "ratings = pd.read_csv(\"movie_ratings_data_set.csv\")"
   ]
  },
  {
   "cell_type": "code",
   "execution_count": 3,
   "metadata": {},
   "outputs": [],
   "source": [
    "# building a rating matrix from ratings dataframe\n",
    "ratings_matrix = pd.pivot_table(ratings, index='user_id', columns='movie_id', aggfunc=np.mean)\n",
    "#ratings_matrix"
   ]
  },
  {
   "cell_type": "code",
   "execution_count": 4,
   "metadata": {},
   "outputs": [
    {
     "name": "stderr",
     "output_type": "stream",
     "text": [
      "/anaconda3/lib/python3.7/site-packages/ipykernel_launcher.py:2: FutureWarning: Method .as_matrix will be removed in a future version. Use .values instead.\n",
      "  \n"
     ]
    },
    {
     "name": "stdout",
     "output_type": "stream",
     "text": [
      "Warning: Maximum number of iterations has been exceeded.\n",
      "         Current function value: 32.504372\n",
      "         Iterations: 3000\n",
      "         Function evaluations: 4545\n",
      "         Gradient evaluations: 4545\n"
     ]
    }
   ],
   "source": [
    "# finding laten features of user and movie ratings through matrix factorization\n",
    "user_ratings, movies_ratings = matrix_factorization_utilities.low_rank_matrix_factorization(ratings_matrix.as_matrix(),\n",
    "                                                                    num_features=15,\n",
    "                                                                    regularization_amount=0.1)"
   ]
  },
  {
   "cell_type": "code",
   "execution_count": 5,
   "metadata": {},
   "outputs": [],
   "source": [
    "# calculate predicted ratings through matrix multiplication\n",
    "predicted_ratings = np.matmul(user_ratings, movies_ratings)"
   ]
  },
  {
   "cell_type": "code",
   "execution_count": 6,
   "metadata": {},
   "outputs": [],
   "source": [
    "# export the predicted ratings to csv file\n",
    "predicted_ratings_dataframe = pd.DataFrame(index=ratings_matrix.index,\n",
    "                                    columns=ratings_matrix.columns,\n",
    "                                    data=predicted_ratings)\n",
    "predicted_ratings_dataframe.to_csv(\"predicted_ratings.csv\")"
   ]
  },
  {
   "cell_type": "markdown",
   "metadata": {},
   "source": [
    "## Finding Similar movies based on ratings"
   ]
  },
  {
   "cell_type": "code",
   "execution_count": 7,
   "metadata": {},
   "outputs": [],
   "source": [
    "# processing the movies ratings feature by swapping the rows and columns - makes it easier to work with\n",
    "movies_ratings = np.transpose(movies_ratings)"
   ]
  },
  {
   "cell_type": "code",
   "execution_count": 8,
   "metadata": {},
   "outputs": [
    {
     "name": "stdout",
     "output_type": "stream",
     "text": [
      "The model is trying to find a movie similar to:\n",
      "Movie title: Surrounded by Zombies 1\n",
      "Genre: horror, zombie fiction\n"
     ]
    }
   ],
   "source": [
    "# Selecting a movie to find similar movie to it based on predicted ratings\n",
    "movie_id = 10\n",
    "# extract movie's name and genre\n",
    "movie_info = movies.loc[movie_id]\n",
    "print(\"The model is trying to find a movie similar to:\")\n",
    "print(\"Movie title: {}\".format(movie_info.title))\n",
    "print(\"Genre: {}\".format(movie_info.genre))"
   ]
  },
  {
   "cell_type": "code",
   "execution_count": 9,
   "metadata": {},
   "outputs": [
    {
     "name": "stdout",
     "output_type": "stream",
     "text": [
      "The featrues for this movie based on model are:\n",
      "[ 0.67956171 -0.58031541 -0.66472264  0.7127944  -1.01531212 -1.84731306\n",
      " -0.65114689  0.08536871 -0.05329978 -0.3305498  -0.07375997 -0.35525923\n",
      " -0.34703138 -1.03420697  0.96291131]\n"
     ]
    }
   ],
   "source": [
    "# extracting the features for selected movie\n",
    "selected_movie_features = movies_ratings[movie_id - 1]\n",
    "print(\"The featrues for this movie based on model are:\")\n",
    "print(selected_movie_features)"
   ]
  },
  {
   "cell_type": "code",
   "execution_count": 14,
   "metadata": {},
   "outputs": [
    {
     "name": "stdout",
     "output_type": "stream",
     "text": [
      "The top 3 movies that are similar to selected movie are:\n",
      "                         title  difference_score\n",
      "movie_id                                        \n",
      "5         The Big City Judge 2          2.772366\n",
      "9                  Biker Gangs          2.894406\n",
      "2         The Big City Judge 1          3.810022\n"
     ]
    }
   ],
   "source": [
    "# the logic for finding similar movies\n",
    "# 1. find the difference between selected movie's feature and all other movies features\n",
    "diff_selected_vs_movies = movies_ratings - selected_movie_features\n",
    "# 2. make the values of difference all positive\n",
    "diff_selected_vs_movies = np.abs(diff_selected_vs_movies)\n",
    "# 3. calculate the difference score by summing all 15 features of each movie\n",
    "diff_score = np.sum(diff_selected_vs_movies, axis =1)\n",
    "# 4. add new series to the movie data frame and store difference score \n",
    "movies['difference_score'] = diff_score\n",
    "# 5. sort movie dataframe based on difference score\n",
    "sorted_movies_diff_score = movies.sort_values('difference_score')\n",
    "# 6. Print the top 3 movies that are similar to the selected movie\n",
    "print(\"The top 3 movies that are similar to selected movie are:\")\n",
    "print(sorted_movies_diff_score[['title','difference_score']][1:4])"
   ]
  },
  {
   "cell_type": "markdown",
   "metadata": {},
   "source": [
    "## Recommending movies to user based on movies he/she rated"
   ]
  },
  {
   "cell_type": "code",
   "execution_count": 19,
   "metadata": {},
   "outputs": [
    {
     "name": "stdout",
     "output_type": "stream",
     "text": [
      "Please enter user_id to get movies recomedations - user_id must be between 1 to 100\n",
      "\n",
      "3\n",
      "\n",
      "This user has already rated:\n",
      "\n",
      "                   title                 genre  value\n",
      "13         The Sheriff 1  crime drama, western      4\n",
      "14     Attack on Earth 2        sci-fi, action      3\n",
      "15         The Sheriff 3  crime drama, western      5\n",
      "16         The Sheriff 2  crime drama, western      5\n",
      "17  The Big City Judge 1           legal drama      4\n",
      "18      Trapped in Space       sci-fi, mystery      3\n",
      "\n",
      "Press enter to proceed with movies recommendations....\n",
      "2\n",
      "\n",
      "The movies we recommend to this user are:\n",
      "\n",
      "                          title                     genre    rating\n",
      "movie_id                                                           \n",
      "34        The Serious Detective           detective drama  4.596754\n",
      "5          The Big City Judge 2               legal drama  4.528607\n",
      "9                   Biker Gangs       crime drama, action  4.491327\n",
      "28                The Sheriff 4      crime drama, western  4.474628\n",
      "21              Political Gaffs  comedy, political satire  4.440149\n"
     ]
    }
   ],
   "source": [
    "# obtaining user_id from the user\n",
    "print(\"Please enter user_id to get movies recomedations - user_id must be between 1 to 100\\n\")\n",
    "selected_user_id = int(input())\n",
    "# display movies he/she already rated with their ratings\n",
    "rated_by_user_id = ratings[ratings['user_id'] == selected_user_id]\n",
    "rated_by_user_id = rated_by_user_id.join(movies, on='movie_id')\n",
    "print(\"\\nThis user has already rated:\\n\")\n",
    "print(rated_by_user_id[['title', 'genre','value']])\n",
    "# Repeating the process of finding similar moves and display it to user\n",
    "input(\"\\nPress enter to proceed with movies recommendations....\\n\") # pause before displaying recommendations\n",
    "print(\"\\nThe movies we recommend to this user are:\\n\")\n",
    "# extracting the ratings of this user\n",
    "user_id_ratings = predicted_ratings[selected_user_id-1]\n",
    "# adding new series to movies dataframe that store user ratings\n",
    "movies['rating'] = user_id_ratings\n",
    "# extracting the movies the user already rated\n",
    "movie_id_user_rated = rated_by_user_id['movie_id']\n",
    "# disclode the movies user already rated\n",
    "movies_recommended = movies[movies.index.isin(movie_id_user_rated) == False]\n",
    "# sorting the movies recommneded based on rating\n",
    "movies_recommended = movies_recommended.sort_values(by=['rating'], ascending = False)\n",
    "print(movies_recommended[['title','genre','rating']].head(5))"
   ]
  }
 ],
 "metadata": {
  "kernelspec": {
   "display_name": "Python 3",
   "language": "python",
   "name": "python3"
  },
  "language_info": {
   "codemirror_mode": {
    "name": "ipython",
    "version": 3
   },
   "file_extension": ".py",
   "mimetype": "text/x-python",
   "name": "python",
   "nbconvert_exporter": "python",
   "pygments_lexer": "ipython3",
   "version": "3.7.1"
  }
 },
 "nbformat": 4,
 "nbformat_minor": 2
}
