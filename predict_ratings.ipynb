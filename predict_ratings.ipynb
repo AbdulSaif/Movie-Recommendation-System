{
 "cells": [
  {
   "cell_type": "code",
   "execution_count": 1,
   "metadata": {},
   "outputs": [],
   "source": [
    "# importing required modules and libraries\n",
    "import numpy as np\n",
    "import pandas as pd\n",
    "import matrix_factorization_utilities"
   ]
  },
  {
   "cell_type": "code",
   "execution_count": 2,
   "metadata": {},
   "outputs": [],
   "source": [
    "# read both ratings and movies datasets into tables using pandas\n",
    "movies = pd.read_csv(\"movies.csv\", index_col='movie_id')\n",
    "ratings = pd.read_csv(\"movie_ratings_data_set.csv\")"
   ]
  },
  {
   "cell_type": "code",
   "execution_count": 5,
   "metadata": {},
   "outputs": [],
   "source": [
    "# building a rating matrix from ratings dataframe\n",
    "ratings_matrix = pd.pivot_table(ratings, index='user_id', columns='movie_id', aggfunc=np.mean)\n",
    "#ratings_matrix"
   ]
  },
  {
   "cell_type": "code",
   "execution_count": 6,
   "metadata": {},
   "outputs": [
    {
     "name": "stderr",
     "output_type": "stream",
     "text": [
      "/anaconda3/lib/python3.7/site-packages/ipykernel_launcher.py:2: FutureWarning: Method .as_matrix will be removed in a future version. Use .values instead.\n",
      "  \n"
     ]
    },
    {
     "name": "stdout",
     "output_type": "stream",
     "text": [
      "Warning: Maximum number of iterations has been exceeded.\n",
      "         Current function value: 32.504372\n",
      "         Iterations: 3000\n",
      "         Function evaluations: 4545\n",
      "         Gradient evaluations: 4545\n"
     ]
    }
   ],
   "source": [
    "# finding laten features of user and movie ratings through matrix factorization\n",
    "user_ratings, movies_ratings = matrix_factorization_utilities.low_rank_matrix_factorization(ratings_matrix.as_matrix(),\n",
    "                                                                    num_features=15,\n",
    "                                                                    regularization_amount=0.1)"
   ]
  },
  {
   "cell_type": "code",
   "execution_count": 8,
   "metadata": {},
   "outputs": [],
   "source": [
    "# calculate predicted ratings through matrix multiplication\n",
    "predicted_ratings = np.matmul(user_ratings, movies_ratings)"
   ]
  },
  {
   "cell_type": "code",
   "execution_count": 9,
   "metadata": {},
   "outputs": [],
   "source": [
    "# export the predicted ratings to csv file\n",
    "predicted_ratings_dataframe = pd.DataFrame(index=ratings_matrix.index,\n",
    "                                    columns=ratings_matrix.columns,\n",
    "                                    data=predicted_ratings)\n",
    "predicted_ratings_dataframe.to_csv(\"predicted_ratings.csv\")"
   ]
  },
  {
   "cell_type": "code",
   "execution_count": null,
   "metadata": {},
   "outputs": [],
   "source": []
  }
 ],
 "metadata": {
  "kernelspec": {
   "display_name": "Python 3",
   "language": "python",
   "name": "python3"
  },
  "language_info": {
   "codemirror_mode": {
    "name": "ipython",
    "version": 3
   },
   "file_extension": ".py",
   "mimetype": "text/x-python",
   "name": "python",
   "nbconvert_exporter": "python",
   "pygments_lexer": "ipython3",
   "version": "3.7.1"
  }
 },
 "nbformat": 4,
 "nbformat_minor": 2
}
