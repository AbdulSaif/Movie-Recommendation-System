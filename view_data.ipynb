{
 "cells": [
  {
   "cell_type": "code",
   "execution_count": 1,
   "metadata": {},
   "outputs": [],
   "source": [
    "import pandas\n",
    "import os\n",
    "import webbrowser"
   ]
  },
  {
   "cell_type": "code",
   "execution_count": 15,
   "metadata": {},
   "outputs": [],
   "source": [
    "# read both ratings and movies datasets into tables using pandas\n",
    "movies = pandas.read_csv(\"movies.csv\", index_col='movie_id')\n",
    "ratings = pandas.read_csv(\"movie_ratings_data_set.csv\")"
   ]
  },
  {
   "cell_type": "code",
   "execution_count": 16,
   "metadata": {},
   "outputs": [],
   "source": [
    "# veiw the data as a webpage - html file\n",
    "movies_html = movies[0:100].to_html()\n",
    "ratings_html = ratings[0:100].to_html()"
   ]
  },
  {
   "cell_type": "code",
   "execution_count": 17,
   "metadata": {},
   "outputs": [],
   "source": [
    "# save a temporary html files for movies and ratings\n",
    "with open(\"movies.html\", 'w') as m:\n",
    "    m.write(movies_html)\n",
    "with open(\"ratings.html\", 'w') as r:\n",
    "    r.write(ratings_html)"
   ]
  },
  {
   "cell_type": "code",
   "execution_count": 18,
   "metadata": {},
   "outputs": [
    {
     "data": {
      "text/plain": [
       "True"
      ]
     },
     "execution_count": 18,
     "metadata": {},
     "output_type": "execute_result"
    }
   ],
   "source": [
    "# Open the web pages in our web browser\n",
    "movies_path = os.path.abspath(\"movies.html\")\n",
    "webbrowser.open(\"file://{}\".format(movies_path))\n",
    "ratings_path = os.path.abspath(\"ratings.html\")\n",
    "webbrowser.open(\"file://{}\".format(ratings_path))"
   ]
  }
 ],
 "metadata": {
  "kernelspec": {
   "display_name": "Python 3",
   "language": "python",
   "name": "python3"
  },
  "language_info": {
   "codemirror_mode": {
    "name": "ipython",
    "version": 3
   },
   "file_extension": ".py",
   "mimetype": "text/x-python",
   "name": "python",
   "nbconvert_exporter": "python",
   "pygments_lexer": "ipython3",
   "version": "3.7.1"
  }
 },
 "nbformat": 4,
 "nbformat_minor": 2
}
