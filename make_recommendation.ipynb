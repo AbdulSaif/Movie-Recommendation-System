{
 "cells": [
  {
   "cell_type": "code",
   "execution_count": 1,
   "metadata": {},
   "outputs": [],
   "source": [
    "# import required modules\n",
    "import pandas as pd\n",
    "import pickle"
   ]
  },
  {
   "cell_type": "code",
   "execution_count": 2,
   "metadata": {},
   "outputs": [],
   "source": [
    "# load user features, movies features and predicted ratings saved and trained previously\n",
    "user_features = pickle.load(open(\"user_features.dat\", 'rb'))\n",
    "movies_features = pickle.load(open(\"movies_features.dat\", 'rb'))\n",
    "predicted_ratings = pickle.load(open(\"predicted_ratings.dat\", 'rb'))"
   ]
  },
  {
   "cell_type": "code",
   "execution_count": 5,
   "metadata": {},
   "outputs": [],
   "source": [
    "# read both ratings and movies datasets into tables using pandas\n",
    "movies = pd.read_csv(\"movies.csv\", index_col='movie_id')\n",
    "ratings = pd.read_csv(\"movie_ratings_data_set.csv\")"
   ]
  },
  {
   "cell_type": "code",
   "execution_count": 6,
   "metadata": {},
   "outputs": [
    {
     "name": "stdout",
     "output_type": "stream",
     "text": [
      "Please enter user_id to get movies recomedations - user_id must be between 1 to 100\n",
      "\n",
      "34\n",
      "\n",
      "This user has already rated:\n",
      "\n",
      "                       title                          genre  value\n",
      "230  Surrounded by Zombies 1         horror, zombie fiction      5\n",
      "231            The Sheriff 4           crime drama, western      5\n",
      "232            The Sheriff 2           crime drama, western      5\n",
      "233            The Sheriff 3           crime drama, western      5\n",
      "234              Biker Gangs            crime drama, action      5\n",
      "235             Drugs & Guns                    crime drama      3\n",
      "236          Master Criminal  thriller, horror, crime drama      4\n",
      "\n",
      "Press enter to proceed with movies recommendations....\n",
      "\n",
      "\n",
      "The movies we recommend to this user are:\n",
      "\n",
      "                          title            genre    rating\n",
      "movie_id                                                  \n",
      "34        The Serious Detective  detective drama  5.077338\n",
      "20                   Buy My App           comedy  4.834372\n",
      "6             Attack on Earth 1   sci-fi, action  4.830235\n",
      "4         Just a Regular Family          reality  4.756801\n",
      "5          The Big City Judge 2      legal drama  4.701663\n"
     ]
    }
   ],
   "source": [
    "# obtaining user_id from the user\n",
    "print(\"Please enter user_id to get movies recomedations - user_id must be between 1 to 100\\n\")\n",
    "selected_user_id = int(input())\n",
    "# display movies he/she already rated with their ratings\n",
    "rated_by_user_id = ratings[ratings['user_id'] == selected_user_id]\n",
    "rated_by_user_id = rated_by_user_id.join(movies, on='movie_id')\n",
    "print(\"\\nThis user has already rated:\\n\")\n",
    "print(rated_by_user_id[['title', 'genre','value']])\n",
    "# Repeating the process of finding similar moves and display it to user\n",
    "input(\"\\nPress enter to proceed with movies recommendations....\\n\") # pause before displaying recommendations\n",
    "print(\"\\nThe movies we recommend to this user are:\\n\")\n",
    "# extracting the ratings of this user\n",
    "user_id_ratings = predicted_ratings[selected_user_id-1]\n",
    "# adding new series to movies dataframe that store user ratings\n",
    "movies['rating'] = user_id_ratings\n",
    "# extracting the movies the user already rated\n",
    "movie_id_user_rated = rated_by_user_id['movie_id']\n",
    "# disclode the movies user already rated\n",
    "movies_recommended = movies[movies.index.isin(movie_id_user_rated) == False]\n",
    "# sorting the movies recommneded based on rating\n",
    "movies_recommended = movies_recommended.sort_values(by=['rating'], ascending = False)\n",
    "print(movies_recommended[['title','genre','rating']].head(5))"
   ]
  },
  {
   "cell_type": "code",
   "execution_count": null,
   "metadata": {},
   "outputs": [],
   "source": []
  }
 ],
 "metadata": {
  "kernelspec": {
   "display_name": "Python 3",
   "language": "python",
   "name": "python3"
  },
  "language_info": {
   "codemirror_mode": {
    "name": "ipython",
    "version": 3
   },
   "file_extension": ".py",
   "mimetype": "text/x-python",
   "name": "python",
   "nbconvert_exporter": "python",
   "pygments_lexer": "ipython3",
   "version": "3.7.1"
  }
 },
 "nbformat": 4,
 "nbformat_minor": 2
}
